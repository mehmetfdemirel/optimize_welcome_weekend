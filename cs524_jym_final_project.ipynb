{
 "cells": [
  {
   "cell_type": "markdown",
   "metadata": {},
   "source": [
    "<center> <h1> Optimizing Welcome Weekends!</h1> </center>\n",
    "\n",
    "<center> <h2> Spring 2020 - CS 524 - Final Project</h2> </center>\n",
    "\n",
    "---\n",
    "\n",
    "<center> <h3>Yizhou Yao (Lead Analyst), Jiaze Ma (Lead Modeller), Mehmet Furkan Demirel (Lead Coder)</h3> </center>\n",
    "<br />\n",
    "<div align=\"center\"> <i>{yyao78, jma258, demirel}@wisc.edu</i> </div>"
   ]
  },
  {
   "cell_type": "markdown",
   "metadata": {},
   "source": [
    "---\n",
    "## 0. Table of Contents\n",
    "* [1. Introduction](#intro)  \n",
    "* [2. Main Optimization Model](#opt) \n",
    "    * [2.2. Parameters and Decision Variable](#variables)  \n",
    "    * [2.2. Objective](#obj)  \n",
    "    * [2.3. Constraints](#const)  \n",
    "    * [2.4. Optimization Problem](#finalopt)     \n",
    "* [3. Data](#data)  \n",
    "    * [3.1. Data Description](#datadesc)\n",
    "* [4. Implementation](#code)\n",
    "* [5. Results](#results)\n",
    "* [6. Analysis and Discussion](#analysis)\n",
    "    * [6.1. Sensitivity Analysis ](#sensanalysis)\n",
    "    * [6.2. Satisfaction Analysis of Students and Professors](#satisanalysis)\n",
    "    * [6.3. Satisfaction Analysis with Various $\\alpha$](#alphaanalysis)\n",
    "* [7. Conclusion](#conclusion)\n",
    "* [8. Author Contributions](#authors)\n",
    "* [9. Acknowledgements](#authors)\n",
    "\n",
    "---"
   ]
  },
  {
   "cell_type": "markdown",
   "metadata": {},
   "source": [
    "<a id=\"intro\"></a>\n",
    "\n",
    "## 1. Introduction\n",
    "\n",
    "Many university departments across the United States organize annual welcome weekend/open house events for their prospective graduate students. Admitted students from all around the world come to these events to get a taste of how it would be like to be a graduate student at the departments that they are admitted to. \n",
    "\n",
    "Without a question, the most difficult part in organizing these events is to come up with a optimal schedule for professor-student meetings in which students try to learn more about the research of the faculty that they are interested in working with should they accept the offer. In order to arrange these meetings, departments usually ask prospective students of their top $N$ professors that they want to meet with, and try to **maximize** the number of students who will meet with professors that they listed as their top choices.\n",
    "\n",
    "To save on the labor of arranging the schedule, we developed a systematical method of optimizing the professor-student meeting schedules. The basic idea of this model can be described as follows: we first obtain the availability of each professor and the students' preference. Then, we formulate a model to maximize both the student satisfaction, subject to the availability of professors. We also considered the satisfaction of the professors and formulated this problem with a bi-objective. To have more insights of the model, we performed an extensive analysis on the results. For example, sensitivity analysis was done to examine the specific availabilities of professors that have the largest impact on the objective value. This information can be used for asking the professors with important time slots to change their availability. In order to avoid the extreme case where a specific student has very low satisfaction, a set of histograms was given to check the satisfaction distribution of students. Almost all practical issues that might be encountered in real life were considered within the model in form of constraints. Using the real world data and leveraging the optimization methodology, the proposed model is able to solve the intrinsic school visiting scheduling problem.\n",
    "\n",
    "One of our team members, Mehmet, has been helping the Department of Computer Science at the University of Wisconsin-Madison for the last two years in [organizing these welcome weekends](https://www.cs.wisc.edu/welcome-weekend-2020-schedule/) in the spring, and has seen the amount of manual labor it takes to optimize professor-student meetings. Therefore, we strongly believe that these optimization problems are particularly interesting to solve and will be very useful in organizing these events, which definitely play a vital role in every prospective student's decision as to which school to join.\n",
    "\n",
    "---"
   ]
  },
  {
   "cell_type": "markdown",
   "metadata": {},
   "source": [
    "<a id=\"opt\"></a>\n",
    "## 2. Main Optimization Model\n",
    "\n",
    "Let's mathematically define the aforementioned optimization problem.  \n",
    "\n",
    "<a id=\"variables\"></a>\n",
    "### 2.1. Parameters and Decision Variable\n",
    "\n",
    "We will first define the parameters that we will be using in our optimization model:\n",
    "\n",
    "* $C^S$ is the matrix for students' interests in the faculty where $C^S_{s,p} \\in \\{1, 2, 3, 4, 5\\}$ is the coefficient that shows the interest of student $s$ in meeting professor $p$. A higher number indicates more interest.\n",
    "* $C^P$ is the matrix for professors' interests in the students where $C^P_{s,p} \\in \\{1, 2, 3, 4, 5\\}$ is the coefficient that shows the interest of professor $p$ in meeting student $s$. A higher number indicates more interest.\n",
    "* $T$ is the matrix that shows the availabilities of the faculty for each of the time slots. $T_{p,k}$ represents the maximum number of students that professor $p$ can meet with in time slot $k$.\n",
    "* We will let $S, P,$ and $K$ to denote the sets of students, professors, and time slots respectively.\n",
    "\n",
    "Let's now define our decision variables.\n",
    "\n",
    "* Our decision variable will be the matrix $Y^{|S|\\times|P|\\times|K|} \\in \\{0, 1\\}$ where $Y_{s,p,k} \\in \\{0,1\\}$ represents whether or not student $s$ should meet with professor $p$ in time slot $k$.\n",
    "* We will also define the matching matrix $X^{|S|\\times|P|}$ that will represent whether or not student $s$ will meet with professor $p$ at any of the time slots during the day. Mathematically, $X_{s,p} = \\sum_{k \\in K} Y_{s,p,k}$."
   ]
  },
  {
   "cell_type": "markdown",
   "metadata": {},
   "source": [
    "<a id=\"obj\"></a>\n",
    "### 2.2. Objective\n",
    "\n",
    "It is worth mentioning that what we are trying to define and solve is a **multi-objective** optimization problem. \n",
    "\n",
    "The first objective is to maximize the overall satisfaction of the students. This objective aims to maximize the number of students who meet the professors that they are interested in.\n",
    "\n",
    "Afterwards, we define the satisfaction index of student $s$ as the sum of the products of the matching variable $X_{s,p}$ and coefficients $C^S_{s,p}$ as we believe that a student's satisfacion of a visit day is highly correlated with whether or not they can meet with the professors that they are interested in. Mathematically, the satisfaction index of student $s$ is defined as:  \n",
    "\n",
    "\\begin{align}\n",
    "    F^{S}_{s} = \\sum_{p \\in P} X_{s,p} \\cdot C^S_{s,p}\n",
    "\\end{align}\n",
    "\n",
    "In this case, the total satisfaction of all students is \n",
    "\n",
    "\\begin{align}\n",
    "    F_{total}^{S} = \\sum_{s \\in S} F^{S}_s\n",
    "\\end{align}"
   ]
  },
  {
   "cell_type": "markdown",
   "metadata": {},
   "source": [
    "Another objective is to maximize the overall satisfaction of professors. This obejctive aims to maximize the number of professors to meet the students that they are interested in. Similar to the previous satisfacion index, the $F_{total}^{P}$ below denotes the total satisfaction of all professors. The satisfaction of professor $p$ can be described by the sum of the product of matching variables $X_{s,p}$ and coefficient $C^P_{s,p}$ that shows how much professor $p$ is interested in meeting with student $s$. Mathematically, the satisfaction index of professor $p$ is defined as:\n",
    "\n",
    "\\begin{align}\n",
    "    F^{P}_{p} = \\sum_{s \\in S} X_{s,p} \\cdot C^P_{s,p}\n",
    "\\end{align} \n",
    "\n",
    "\\begin{align}\n",
    "    F_{total}^{P} = \\sum_{p \\in P} F^{P}_{p}\n",
    "\\end{align}\n",
    "\n",
    "\n",
    "Therefore, the final objective of the optimization problem comes down to: \n",
    "\n",
    "\\begin{align}\n",
    "    \\underset{Y}{max} \\; \\alpha F_{total}^S + (1-\\alpha) F_{total}^P\n",
    "\\end{align}\n",
    "\n",
    "where $0 < \\alpha < 1$ is a weighting parameter determined beforehand by the decision maker. This parameter will give us the ability to adjust the importance of total student satisfaction compared to that of total professor satisfaction. "
   ]
  },
  {
   "cell_type": "markdown",
   "metadata": {},
   "source": [
    "<a id=\"const\"></a>\n",
    "### 2.3. Constraints\n",
    "\n",
    "In many departments, professors have different research projects and students have different background and interests. Students are more willing to meet with the professors who research is in their area of interest and/or is related to their previous research experience. Nonetheless, both students and professors have limitations pertaining to time and the number of meetings that they can attend to during a visit day. Therefore, we have to enforce a number of different constraints that are outlined below:\n",
    "\n",
    "1. Each student must meet with at least $N_{min}$ professors and is allowed to meet with at most $N_{max}$. Mathematically,  \n",
    "\n",
    "\\begin{align}\n",
    "    N_{min} \\leq \\sum_{p \\in P} \\sum_{k \\in K} Y_{s,p,k} \\leq N_{max} \\qquad \\forall s \\in S\n",
    "\\end{align}\n",
    "\n",
    "2. One student must not meet with the same professor in different time slots over and over again. In other words, a student can meet with the same professor at most once during the day. Mathematically,\n",
    "\n",
    "\\begin{align}\n",
    "    \\sum_{k \\in K} Y_{s,p,k} \\leq 1 \\qquad \\forall s \\in S, \\forall p \\in P\n",
    "\\end{align}\n",
    "    \n",
    "3. The total number of students that professor $p$ meets in each time slot must be less than or equal to how many students that they can possibly see at that time. Mathematically,\n",
    "    \n",
    "\\begin{align}\n",
    "    \\sum_{s \\in S} Y_{s,p,k} \\leq T_{p,k} \\qquad \\forall p \\in P, \\forall k \\in K\n",
    "\\end{align}    \n",
    "\n",
    "4. One student can only meet with at most one professor at the same time slot. Mathematically,\n",
    "    \n",
    "\\begin{align}\n",
    "    \\sum_{p \\in P} Y_{s,p,k} \\leq 1 \\qquad \\forall s \\in S, \\forall k \\in K\n",
    "\\end{align}  \n",
    "\n",
    "5. A student can never meet with a professor for whom they did not show interest in.\n",
    "    \n",
    "\\begin{align}\n",
    "    C^S_{s,p} \\geq Y_{s,p,k} \\qquad \\forall s \\in S, \\forall p \\in P, \\forall k \\in K\n",
    "\\end{align}      "
   ]
  },
  {
   "cell_type": "markdown",
   "metadata": {},
   "source": [
    "<a id=\"finalopt\"></a>\n",
    "### 2.4. Optimization Problem\n",
    "\n",
    "In summary, we obtain the following optimization problem that must be solved in order to find an optimal professor-student meeting schedule.  \n",
    "\n",
    "\\begin{align}\n",
    "    \\underset{Y}{\\text{max}} \\qquad& \\alpha F_{total}^S + (1-\\alpha) F_{total}^P  \\\\\n",
    "\\text{subject to:}\\qquad & N_{min} \\leq \\sum_{p \\in P} \\sum_{k \\in K} Y_{s,p,k} \\leq N_{max} &\\qquad \\forall s \\in S \\\\\n",
    "& \\sum_{k \\in K} Y_{s,p,k} \\leq 1 &\\qquad \\forall s \\in S, \\forall p \\in P \\\\\n",
    "& \\sum_{s \\in S} Y_{s,p,k} \\leq T_{p,k} &\\qquad \\forall p \\in P, \\forall k \\in K \\\\\n",
    "& \\sum_{p \\in P} Y_{s,p,k} \\leq 1 &\\qquad \\forall s \\in S, \\forall k \\in K \\\\\n",
    "& C^S_{s,p} \\geq Y_{s,p,k} &\\qquad \\forall s \\in S, \\forall p \\in P, \\forall k \\in K \\\\\n",
    "& Y_{s,p,k} \\in \\{0, 1\\} &\\qquad \\forall s \\in S, \\forall p \\in P, \\forall k \\in K \\\\\n",
    "& 0 < \\alpha < 1\n",
    "\\end{align}"
   ]
  },
  {
   "cell_type": "markdown",
   "metadata": {},
   "source": [
    "---"
   ]
  },
  {
   "cell_type": "markdown",
   "metadata": {},
   "source": [
    "<a id=\"data\"></a>\n",
    "## 3. Data\n",
    "\n",
    "The data that we have was obtained from the Department of Computer Sciences at the University of Wisconsin-Madison. The department's graduate coordinator provided us with the faculty availabilities and student meeting requests for the CS Graduate Welcome Weekend that took place in February 28-29. The student-faculty meetings were scheduled to take place between 1:30pm - 4:00pm in 15-minute-long sessions. Accordingly, faculty were asked to submit their availability in each of these time slot during this time period. The current data contains the availabilities of *39* professors.\n",
    "\n",
    "Furthermore, students were asked to list up to five faculty members with whom they would want to have a meeting. The current data contains the requests of *121* students.\n",
    "\n"
   ]
  },
  {
   "cell_type": "markdown",
   "metadata": {},
   "source": [
    "<a id=\"datadesc\"></a>\n",
    "### 3.1. Data Description\n",
    "Our data can be described as follows:\n",
    "* The rows in our *faculty.csv* data represent the availabilities of each professor and the columns represent the time slots during the day. The numbers in each cell indicates the most number of students that the corresponding faculty can meet at that time slot.\n",
    "<img src=\"images/faculty.png\" width=\"70%\">"
   ]
  },
  {
   "cell_type": "markdown",
   "metadata": {},
   "source": [
    "* The rows in our *student_requests.csv* data represent the students and the columns represent the professors. The number in each cell shows the ranking that a student gave to a professor. A higher rank means that the student wants to meet more with that professor.\n",
    "<img src=\"images/student.png\" width=\"70%\">"
   ]
  },
  {
   "cell_type": "markdown",
   "metadata": {},
   "source": [
    "* The text files *profs.txt* and *loc.txt* contain the names and office locations of the professors.\n",
    "<img src=\"images/prof_names.png\" width=\"70%\">\n",
    "\n",
    "---"
   ]
  },
  {
   "cell_type": "markdown",
   "metadata": {},
   "source": [
    "<a id=\"code\"></a>\n",
    "## 4. Implementation\n",
    "\n",
    "The implementation of our main optimization model and all the other helper functions can be found below:"
   ]
  },
  {
   "cell_type": "code",
   "execution_count": 1,
   "metadata": {},
   "outputs": [],
   "source": [
    " using CSV, JuMP, Cbc, Gurobi, LinearAlgebra, PyPlot"
   ]
  },
  {
   "cell_type": "code",
   "execution_count": 2,
   "metadata": {},
   "outputs": [
    {
     "data": {
      "text/plain": [
       "loadData (generic function with 1 method)"
      ]
     },
     "execution_count": 2,
     "metadata": {},
     "output_type": "execute_result"
    }
   ],
   "source": [
    "# function that imports all the data\n",
    "function loadData()\n",
    "    # faculty names\n",
    "    profs = split(read(\"data/profs.txt\", String), \"\\n\")\n",
    "    profs = profs[1:length(profs)-1]\n",
    "    println(\">... Faculty names loaded.\")\n",
    "    \n",
    "    # faculty offices\n",
    "    offices = split(read(\"data/loc.txt\", String), \"\\n\")\n",
    "    offices = offices[1:length(offices)-1]\n",
    "    println(\".>.. Faculty offices loaded.\")\n",
    "    \n",
    "    # read faculty availabilities\n",
    "    rawTP = CSV.read(\"data/faculty.csv\", header=true)\n",
    "    TP = convert(Matrix{Float64}, rawTP[1:size(rawTP,1),1:size(rawTP,2)])\n",
    "    println(\"..>. Faculty availabilities loaded.\")\n",
    "    \n",
    "    # read students' interests in professors\n",
    "    rawCS = CSV.read(\"data/student_requests.csv\", header=true)\n",
    "    CS = convert(Matrix{Float64}, rawCS[1:size(rawCS,1),1:size(rawCS,2)])\n",
    "    println(\"...> Student requests loaded.\")\n",
    "    \n",
    "    # professors' interests in students \n",
    "    # since we don't have data about this, we are randomizing professor interests\n",
    "    CP = rand(0:5, size(rawCS))\n",
    "    println(\"All data loaded successfully!\")\n",
    "    return [profs, offices, TP, CS, CP]\n",
    "end"
   ]
  },
  {
   "cell_type": "code",
   "execution_count": 3,
   "metadata": {},
   "outputs": [
    {
     "data": {
      "text/plain": [
       "createSchedule (generic function with 1 method)"
      ]
     },
     "execution_count": 3,
     "metadata": {},
     "output_type": "execute_result"
    }
   ],
   "source": [
    "# function that contains our main optimization model.\n",
    "# input:\n",
    "    # TP: professor availability matrix\n",
    "    # CS: student requests\n",
    "    # CP: professor requests\n",
    "    # N_MIN: minimum number of meetings that must be assigned to each student\n",
    "    # N_MAX: maximum number of meetings that can be assigned to each student\n",
    "    # alpha: the weigthing hyperparameter that determines the importance of student vs prof requests...\n",
    "    # ... higher alpha forces the optimization model to take the satisfaction of students more into...\n",
    "    # account\n",
    "# output: the three-dimensional schedule matrix y where y[i,j,k] indicates if student i will meet prof j ...\n",
    "    # ... at time slot k.\n",
    "\n",
    "function createSchedule(TP, CS, CP; N_MIN=1, N_MAX=3, alpha=1, verbose=1)\n",
    "    numS = size(CS, 1) # total number of students\n",
    "    numP = size(TP, 1) # total number of professors\n",
    "    numT = size(TP, 2) # total number of time slots\n",
    "\n",
    "    model = Model(with_optimizer(Gurobi.Optimizer))\n",
    "    set_silent(model)\n",
    "\n",
    "    @variable(model, y[i=1:numS,j=1:numP, k=1:numT] >= 0)\n",
    "\n",
    "    # total number of students that professor j meets in each time slot\n",
    "    # should be less than or equal to how many students they can see at that time.\n",
    "\n",
    "    @constraint(model, TP_cons, dropdims(sum(y, dims=1), dims=1) .<= TP)\n",
    "\n",
    "    # one student can only meet at most one professor at the same time slot\n",
    "    for i=1:numS\n",
    "        for k=1:numT\n",
    "            @constraint(model, sum(y[i,:,k]) .<= 1)\n",
    "        end\n",
    "    end\n",
    "\n",
    "    # one student should not meet with the same professor\n",
    "    # in different time slots again and again \n",
    "    for i=1:numS\n",
    "        for j=1:numP\n",
    "            @constraint(model, sum(y[i,j,:]) .<= 1)\n",
    "        end\n",
    "    end\n",
    "\n",
    "    # each student can a see a maximum of N_MAX profs\n",
    "    @constraint(model, [i=1:numS, j=1:numP], sum(sum(y[i,:,:])) <= N_MAX)\n",
    "\n",
    "    # each student must see at least N_MIN profs\n",
    "    @constraint(model, [i=1:numS, j=1:numP], sum(sum(y[i,:,:])) >= N_MIN)\n",
    "\n",
    "    # a student can never meet with a professor for whom they did not show interest\n",
    "    @constraint(model, [i=1:numS, j=1:numP, k=1:numT], CS[i,j] >= y[i,j,k])\n",
    "    \n",
    "    # define x_ij\n",
    "    @variable(model, x[i=1:numS, j=1:numP])\n",
    "    @constraint(model, [i=1:numS, j=1:numP], x[i,j] == sum(y[i,j,:]))\n",
    "\n",
    "    # define FS: total satisfaction of students\n",
    "    @variable(model, FS[i=1:numS])\n",
    "    @constraint(model, [i=1:numS], FS[i] == sum(x[i,j]*(CS[i,j]) for j = 1:numP))\n",
    "    \n",
    "    # define FP: total satisfaction of professors\n",
    "    @variable(model, FP[i=1:numP])\n",
    "    @constraint(model, [j=1:numP], FP[j] == sum(x[i,j]*(CP[i,j]) for i = 1:numS))\n",
    "    \n",
    "    @objective(model, Max, alpha*sum(FS) + (1-alpha)*sum(FP))\n",
    "\n",
    "    optimize!(model)\n",
    "\n",
    "    totalMeetings = sum(value.(y[:,:,:]))\n",
    "    FFS = value.(FS)\n",
    "    FFP = value.(FP)\n",
    "    \n",
    "    if verbose == 1\n",
    "        println(\"*******************************************************************\")\n",
    "        println(\"*  UW-Madison CS Department - Welcome Weekend Schedule Generator  *\")\n",
    "        println(\"*       Implemented by Mehmet Demirel, Jiaze Ma, Yizhou Yao       *\")\n",
    "        println(\"*                              2020 ©                             *\")\n",
    "        println(\"*******************************************************************\")\n",
    "        println()\n",
    "        println(\"Constraints Enforced:\")\n",
    "        println(\"---------------------------------------------------------------\")\n",
    "        println(\"- Each student will meet with at least \", N_MIN, \" faculty member(s).\")\n",
    "        println(\"- Each student will be allowed to meet with at most \", N_MAX, \" faculty member(s).\")\n",
    "        println(\"- If a faculty member's schedule permits, he/she can meet multiple students at once.\")\n",
    "        println(\"- Student satisfaction will have a \", alpha*100, \"% effect on the optimal schedule \n",
    "    whereas professor satisfaction will have a \", (1-alpha)*100, \"% effect. To change this, modify your alpha variable.\")\n",
    "        println()\n",
    "        println(\"Results:\")\n",
    "        println(\"---------------------------------------------------------------\")\n",
    "        println(\"Total number of meetings requested by students: \", sum(x->x>0,CS))\n",
    "        println(\"Total number of meetings scheduled: \", sum(convert(Int64,totalMeetings)))\n",
    "        println(\"Average student satisfaction index: \", sum(FFS / numS))\n",
    "        println(\"Average professor satisfaction index: \", sum(FFP / numP))\n",
    "        println(\"Average number of meetings requested by each student: \", sum(x->x>0,CS) / numS)\n",
    "        println(\"Average number of meetings scheduled for each student: \", sum(convert(Int64,totalMeetings)) / numS)\n",
    "        println(\"---------------------------------------------------------------\")\n",
    "        println(\"This solution is \", termination_status(model))\n",
    "    end\n",
    "    # calculate duals for TP\n",
    "    duals = zeros(numP, numT)\n",
    "    for i=1:numP\n",
    "        for j=1:numT\n",
    "            duals[i,j] = shadow_price(TP_cons[i,j])\n",
    "        end\n",
    "    end\n",
    "    \n",
    "    return duals, value.(y), FFS, FFP\n",
    "\n",
    "end\n"
   ]
  },
  {
   "cell_type": "code",
   "execution_count": 4,
   "metadata": {},
   "outputs": [
    {
     "data": {
      "text/plain": [
       "printSchedule (generic function with 1 method)"
      ]
     },
     "execution_count": 4,
     "metadata": {},
     "output_type": "execute_result"
    }
   ],
   "source": [
    "# The function that extracts which person needs to meet which person\n",
    "# given their time table\n",
    "function who2meet(list)\n",
    "    ll = []\n",
    "    for i = 1:length(list)\n",
    "        if(abs(list[i] - 1) < 0.0001)\n",
    "            push!(ll, i)\n",
    "        end\n",
    "    end\n",
    "    return ll\n",
    "    \n",
    "end\n",
    "\n",
    "###\n",
    "\n",
    "# the function that prints out a calculated schedule.\n",
    "# input: \n",
    "    # stORprof: \"s\" indicates this is a student schedule, \"p\" indicates prof.\n",
    "    # whichPerson: which student or professor's schedule to print\n",
    "function printSchedule(stORprof, whichPerson)\n",
    "    timeSlots = [\"1:30-1:45\", \"1:45-2:00\", \"2:00-2:15\", \n",
    "                \"2:15-2:30\", \"2:30-2:45\", \"2:45-3:00\", \n",
    "                \"3:00-3:15\", \"3:15-3:30\", \"3:30-3:45\", \n",
    "                \"3:45-4:00\"]\n",
    "\n",
    "    numT = length(timeSlots)\n",
    "    if stORprof == \"s\"\n",
    "        println(\"Student \", whichPerson, \" schedule: \")\n",
    "        println(\"--------------------------------\")\n",
    "        for k = 1:numT\n",
    "            prof2meet = who2meet(y[whichPerson,:,k])\n",
    "            if prof2meet != []\n",
    "                println(timeSlots[k], \": Prof. \", profs[prof2meet[1]], \" @ \", offices[prof2meet[1]])\n",
    "            else\n",
    "                println(timeSlots[k], \": -\")\n",
    "            end\n",
    "        end\n",
    "        println()\n",
    "\n",
    "    else\n",
    "        println(\"Prof. \", profs[whichPerson], \" schedule: \")\n",
    "        println(\"--------------------------------\")\n",
    "        for k = 1:numT\n",
    "            stu2meet = who2meet(y[:,whichPerson,k])\n",
    "            if stu2meet != []\n",
    "                print(timeSlots[k], \": Student(s) \") \n",
    "                stu2meet = sort(convert(Array{Int64},stu2meet))\n",
    "                for i = 1:length(stu2meet)\n",
    "                    if i != length(stu2meet)\n",
    "                        print(stu2meet[i], \", \")\n",
    "                    else\n",
    "                        println(stu2meet[i])\n",
    "                    end\n",
    "                end\n",
    "            else\n",
    "                println(timeSlots[k], \": -\")\n",
    "            end\n",
    "        end\n",
    "        println()\n",
    "    end\n",
    "end"
   ]
  },
  {
   "cell_type": "markdown",
   "metadata": {},
   "source": [
    "---\n",
    "\n",
    "<a id=\"results\"></a>\n",
    "## 5. Results\n",
    "\n",
    "We will now run our model with different sets of input and confirm that it works. Let's first import the data."
   ]
  },
  {
   "cell_type": "code",
   "execution_count": 8,
   "metadata": {},
   "outputs": [
    {
     "name": "stdout",
     "output_type": "stream",
     "text": [
      ">... Faculty names loaded.\n",
      ".>.. Faculty offices loaded.\n",
      "..>. Faculty availabilities loaded.\n",
      "...> Student requests loaded.\n",
      "All data loaded successfully!\n"
     ]
    }
   ],
   "source": [
    "profs, offices, TP, CS, CP = loadData();"
   ]
  },
  {
   "cell_type": "markdown",
   "metadata": {},
   "source": [
    "We will now optimize our model by calling the *createSchedule* function. For this first run, we will enforce the following:\n",
    "* Every student must have a minimum of 2 meetings.  \n",
    "* Every student is allowed to have a maximum of 3 meetings.\n",
    "* Satisfaction of the students will have 100% effect on the results whereas the satisfaction of the faculty will have 0%."
   ]
  },
  {
   "cell_type": "code",
   "execution_count": 9,
   "metadata": {},
   "outputs": [
    {
     "name": "stdout",
     "output_type": "stream",
     "text": [
      "Academic license - for non-commercial use only\n",
      "Academic license - for non-commercial use only\n",
      "*******************************************************************\n",
      "*  UW-Madison CS Department - Welcome Weekend Schedule Generator  *\n",
      "*       Implemented by Mehmet Demirel, Jiaze Ma, Yizhou Yao       *\n",
      "*                              2020 ©                             *\n",
      "*******************************************************************\n",
      "\n",
      "Constraints Enforced:\n",
      "---------------------------------------------------------------\n",
      "- Each student will meet with at least 2 faculty member(s).\n",
      "- Each student will be allowed to meet with at most 3 faculty member(s).\n",
      "- If a faculty member's schedule permits, he/she can meet multiple students at once.\n",
      "- Student satisfaction will have a 100% effect on the optimal schedule \n",
      "    whereas professor satisfaction will have a 0% effect. To change this, modify your alpha variable.\n",
      "\n",
      "Results:\n",
      "---------------------------------------------------------------\n",
      "Total number of meetings requested by students: 609\n",
      "Total number of meetings scheduled: 282\n",
      "Average student satisfaction index: 8.785123966942146\n",
      "Average professor satisfaction index: 19.384615384615387\n",
      "Average number of meetings requested by each student: 5.033057851239669\n",
      "Average number of meetings scheduled for each student: 2.330578512396694\n",
      "---------------------------------------------------------------\n",
      "This solution is OPTIMAL\n"
     ]
    }
   ],
   "source": [
    "dualsTP, y, FS, FP = createSchedule(TP, CS, CP, N_MIN=2, N_MAX=3, alpha=1)\n",
    ";"
   ]
  },
  {
   "cell_type": "markdown",
   "metadata": {},
   "source": [
    "As can be seen, our function lists all the constraints enforced by the user, solves the optimization problem, and provide the user with helpful statistics. We can see from this output that most students were able to meet with at least 2 faculty members.\n",
    "\n",
    "We can also print out individual schedules for both students and professor. For instance, let's look at 10 random students' faculty interests and then their created schedules."
   ]
  },
  {
   "cell_type": "code",
   "execution_count": 10,
   "metadata": {},
   "outputs": [
    {
     "name": "stdout",
     "output_type": "stream",
     "text": [
      "Student 1 is interested in the following faculty in order (most to least):\n",
      "\n",
      "Rahul Chatterjee\n",
      "Earlence Fernandes\n",
      "Justin Hsu\n",
      "Remzi Arpaci-Dusseau\n",
      "Bilge Mutlu\n",
      "\n",
      "Student 1 schedule: \n",
      "--------------------------------\n",
      "1:30-1:45: -\n",
      "1:45-2:00: -\n",
      "2:00-2:15: -\n",
      "2:15-2:30: -\n",
      "2:30-2:45: Prof. Earlence Fernandes @ 7387 CS\n",
      "2:45-3:00: -\n",
      "3:00-3:15: -\n",
      "3:15-3:30: -\n",
      "3:30-3:45: Prof. Rahul Chatterjee @ 7373 CS\n",
      "3:45-4:00: -\n",
      "\n",
      "***********************************************************************\n",
      "Student 28 is interested in the following faculty in order (most to least):\n",
      "\n",
      "Paul Barford\n",
      "Michael Gleicher\n",
      "Eftychios Sifakis\n",
      "Michael Swift\n",
      "Steve Wright\n",
      "\n",
      "Student 28 schedule: \n",
      "--------------------------------\n",
      "1:30-1:45: -\n",
      "1:45-2:00: -\n",
      "2:00-2:15: -\n",
      "2:15-2:30: -\n",
      "2:30-2:45: Prof. Paul Barford @ 7393 CS\n",
      "2:45-3:00: -\n",
      "3:00-3:15: Prof. Eftychios Sifakis @ 6387 CS\n",
      "3:15-3:30: -\n",
      "3:30-3:45: -\n",
      "3:45-4:00: -\n",
      "\n",
      "***********************************************************************\n",
      "Student 41 is interested in the following faculty in order (most to least):\n",
      "\n",
      "Ilias Diakonikolas\n",
      "Dieter van Melkebeek\n",
      "Christos Tzamos\n",
      "Yingyu Liang\n",
      "Suman Banerjee\n",
      "\n",
      "Student 41 schedule: \n",
      "--------------------------------\n",
      "1:30-1:45: -\n",
      "1:45-2:00: Prof. Dieter van Melkebeek @ 4390 CS\n",
      "2:00-2:15: -\n",
      "2:15-2:30: -\n",
      "2:30-2:45: -\n",
      "2:45-3:00: -\n",
      "3:00-3:15: -\n",
      "3:15-3:30: -\n",
      "3:30-3:45: Prof. Christos Tzamos @ 4375 CS\n",
      "3:45-4:00: -\n",
      "\n",
      "***********************************************************************\n",
      "Student 52 is interested in the following faculty in order (most to least):\n",
      "\n",
      "Andrea Arpaci-Dusseau\n",
      "Remzi Arpaci-Dusseau\n",
      "Michael Swift\n",
      "Ilias Diakonikolas\n",
      "Guri Sohi\n",
      "\n",
      "Student 52 schedule: \n",
      "--------------------------------\n",
      "1:30-1:45: -\n",
      "1:45-2:00: -\n",
      "2:00-2:15: -\n",
      "2:15-2:30: -\n",
      "2:30-2:45: Prof. Michael Swift @ 7369 CS\n",
      "2:45-3:00: -\n",
      "3:00-3:15: -\n",
      "3:15-3:30: -\n",
      "3:30-3:45: Prof. Andrea Arpaci-Dusseau @ 7375 CS\n",
      "3:45-4:00: -\n",
      "\n",
      "***********************************************************************\n",
      "Student 58 is interested in the following faculty in order (most to least):\n",
      "\n",
      "Aws Albarghouthi\n",
      "Justin Hsu\n",
      "Thomas Reps\n",
      "Steve Wright\n",
      "Michael Gleicher\n",
      "\n",
      "Student 58 schedule: \n",
      "--------------------------------\n",
      "1:30-1:45: -\n",
      "1:45-2:00: Prof. Steve Wright @ 4379 CS\n",
      "2:00-2:15: -\n",
      "2:15-2:30: -\n",
      "2:30-2:45: -\n",
      "2:45-3:00: -\n",
      "3:00-3:15: Prof. Thomas Reps @ 6361 CS\n",
      "3:15-3:30: -\n",
      "3:30-3:45: Prof. Aws Albarghouthi @ 6363 CS\n",
      "3:45-4:00: -\n",
      "\n",
      "***********************************************************************\n",
      "Student 62 is interested in the following faculty in order (most to least):\n",
      "\n",
      "Yingyu Liang\n",
      "Bilge Mutlu\n",
      "Andrea Arpaci-Dusseau\n",
      "Eric Bach\n",
      "Mohit Gupta\n",
      "\n",
      "Student 62 schedule: \n",
      "--------------------------------\n",
      "1:30-1:45: Prof. Eric Bach @ 4391 CS\n",
      "1:45-2:00: Prof. Yingyu Liang @ 6393 CS\n",
      "2:00-2:15: -\n",
      "2:15-2:30: -\n",
      "2:30-2:45: -\n",
      "2:45-3:00: -\n",
      "3:00-3:15: -\n",
      "3:15-3:30: -\n",
      "3:30-3:45: -\n",
      "3:45-4:00: Prof. Bilge Mutlu @ 6381 CS\n",
      "\n",
      "***********************************************************************\n",
      "Student 73 is interested in the following faculty in order (most to least):\n",
      "\n",
      "Ilias Diakonikolas\n",
      "Theodoros Rekatsinas\n",
      "Guri Sohi\n",
      "Loris D'Antoni\n",
      "Remzi Arpaci-Dusseau\n",
      "\n",
      "Student 73 schedule: \n",
      "--------------------------------\n",
      "1:30-1:45: -\n",
      "1:45-2:00: -\n",
      "2:00-2:15: -\n",
      "2:15-2:30: -\n",
      "2:30-2:45: -\n",
      "2:45-3:00: -\n",
      "3:00-3:15: Prof. Guri Sohi @ 6375 CS\n",
      "3:15-3:30: Prof. Ilias Diakonikolas @ 4387 CS\n",
      "3:30-3:45: -\n",
      "3:45-4:00: -\n",
      "\n",
      "***********************************************************************\n",
      "Student 86 is interested in the following faculty in order (most to least):\n",
      "\n",
      "Remzi Arpaci-Dusseau\n",
      "Bilge Mutlu\n",
      "Jerry Zhu\n",
      "Christos Tzamos\n",
      "Loris D'Antoni\n",
      "\n",
      "Student 86 schedule: \n",
      "--------------------------------\n",
      "1:30-1:45: -\n",
      "1:45-2:00: Prof. Bilge Mutlu @ 6381 CS\n",
      "2:00-2:15: -\n",
      "2:15-2:30: Prof. Remzi Arpaci-Dusseau @ 7357 CS\n",
      "2:30-2:45: -\n",
      "2:45-3:00: -\n",
      "3:00-3:15: -\n",
      "3:15-3:30: -\n",
      "3:30-3:45: -\n",
      "3:45-4:00: -\n",
      "\n",
      "***********************************************************************\n",
      "Student 98 is interested in the following faculty in order (most to least):\n",
      "\n",
      "Rahul Chatterjee\n",
      "Earlence Fernandes\n",
      "Eftychios Sifakis\n",
      "Xiangyao Yu\n",
      "Paris Koutris\n",
      "\n",
      "Student 98 schedule: \n",
      "--------------------------------\n",
      "1:30-1:45: -\n",
      "1:45-2:00: Prof. Earlence Fernandes @ 7387 CS\n",
      "2:00-2:15: -\n",
      "2:15-2:30: Prof. Rahul Chatterjee @ 7373 CS\n",
      "2:30-2:45: -\n",
      "2:45-3:00: Prof. Eftychios Sifakis @ 6387 CS\n",
      "3:00-3:15: -\n",
      "3:15-3:30: -\n",
      "3:30-3:45: -\n",
      "3:45-4:00: -\n",
      "\n",
      "***********************************************************************\n",
      "Student 117 is interested in the following faculty in order (most to least):\n",
      "\n",
      "Michael Gleicher\n",
      "Bilge Mutlu\n",
      "Somesh Jha\n",
      "Rahul Chatterjee\n",
      "Christos Tzamos\n",
      "\n",
      "Student 117 schedule: \n",
      "--------------------------------\n",
      "1:30-1:45: -\n",
      "1:45-2:00: Prof. Somesh Jha @ 7385 CS\n",
      "2:00-2:15: -\n",
      "2:15-2:30: -\n",
      "2:30-2:45: -\n",
      "2:45-3:00: -\n",
      "3:00-3:15: -\n",
      "3:15-3:30: Prof. Rahul Chatterjee @ 7373 CS\n",
      "3:30-3:45: -\n",
      "3:45-4:00: -\n",
      "\n",
      "***********************************************************************\n"
     ]
    }
   ],
   "source": [
    "randList =  sort(rand(1:121, 10))\n",
    "for student in randList\n",
    "    println(\"Student \", student, \" is interested in the following faculty in order (most to least):\\n\")\n",
    "    for i = 5:-1:1\n",
    "        index = findall(x->x==i, CS[student,:])\n",
    "        println(profs[index][1])\n",
    "    end\n",
    "\n",
    "    println()\n",
    "    printSchedule(\"s\", student)\n",
    "    println(\"***********************************************************************\")\n",
    "end"
   ]
  },
  {
   "cell_type": "markdown",
   "metadata": {},
   "source": [
    "As can be seen, the schedules are aligning with the students' interests. In addition, we can see that each student is getting 2 meetings minimum and 3 meetings maximum.  \n",
    "\n",
    "We can also take a look at 5 random professors' availabilities and their meetings schedules."
   ]
  },
  {
   "cell_type": "code",
   "execution_count": 11,
   "metadata": {},
   "outputs": [
    {
     "name": "stdout",
     "output_type": "stream",
     "text": [
      "Prof. Bilge Mutlu's availability\n",
      "--------------------------------\n",
      "1:30-1:45: can take 1 student(s).\n",
      "1:45-2:00: can take 1 student(s).\n",
      "2:00-2:15: can take 1 student(s).\n",
      "2:15-2:30: can take 1 student(s).\n",
      "2:30-2:45: can take 1 student(s).\n",
      "2:45-3:00: can take 1 student(s).\n",
      "3:00-3:15: can take 1 student(s).\n",
      "3:15-3:30: can take 1 student(s).\n",
      "3:30-3:45: can take 1 student(s).\n",
      "3:45-4:00: can take 1 student(s).\n",
      "\n",
      "Prof. Bilge Mutlu schedule: \n",
      "--------------------------------\n",
      "1:30-1:45: Student(s) 17\n",
      "1:45-2:00: Student(s) 86\n",
      "2:00-2:15: Student(s) 85\n",
      "2:15-2:30: Student(s) 94\n",
      "2:30-2:45: Student(s) 89\n",
      "2:45-3:00: Student(s) 90\n",
      "3:00-3:15: Student(s) 79\n",
      "3:15-3:30: Student(s) 114\n",
      "3:30-3:45: Student(s) 96\n",
      "3:45-4:00: Student(s) 62\n",
      "\n",
      "***********************************************************************\n",
      "Prof. Dieter van Melkebeek's availability\n",
      "--------------------------------\n",
      "1:30-1:45: can take 1 student(s).\n",
      "1:45-2:00: can take 1 student(s).\n",
      "2:00-2:15: can take 1 student(s).\n",
      "2:15-2:30: can take 1 student(s).\n",
      "2:30-2:45: can take 1 student(s).\n",
      "2:45-3:00: can take 1 student(s).\n",
      "3:00-3:15: can take 1 student(s).\n",
      "3:15-3:30: can take 1 student(s).\n",
      "3:30-3:45: can take 1 student(s).\n",
      "3:45-4:00: can take 1 student(s).\n",
      "\n",
      "Prof. Dieter van Melkebeek schedule: \n",
      "--------------------------------\n",
      "1:30-1:45: Student(s) 104\n",
      "1:45-2:00: Student(s) 41\n",
      "2:00-2:15: Student(s) 54\n",
      "2:15-2:30: Student(s) 37\n",
      "2:30-2:45: Student(s) 13\n",
      "2:45-3:00: Student(s) 105\n",
      "3:00-3:15: -\n",
      "3:15-3:30: Student(s) 4\n",
      "3:30-3:45: Student(s) 29\n",
      "3:45-4:00: Student(s) 46\n",
      "\n",
      "***********************************************************************\n",
      "Prof. Ilias Diakonikolas's availability\n",
      "--------------------------------\n",
      "1:30-1:45: can take 0 student(s).\n",
      "1:45-2:00: can take 1 student(s).\n",
      "2:00-2:15: can take 1 student(s).\n",
      "2:15-2:30: can take 0 student(s).\n",
      "2:30-2:45: can take 0 student(s).\n",
      "2:45-3:00: can take 1 student(s).\n",
      "3:00-3:15: can take 1 student(s).\n",
      "3:15-3:30: can take 1 student(s).\n",
      "3:30-3:45: can take 1 student(s).\n",
      "3:45-4:00: can take 1 student(s).\n",
      "\n",
      "Prof. Ilias Diakonikolas schedule: \n",
      "--------------------------------\n",
      "1:30-1:45: -\n",
      "1:45-2:00: Student(s) 32\n",
      "2:00-2:15: Student(s) 5\n",
      "2:15-2:30: -\n",
      "2:30-2:45: -\n",
      "2:45-3:00: Student(s) 55\n",
      "3:00-3:15: Student(s) 88\n",
      "3:15-3:30: Student(s) 73\n",
      "3:30-3:45: Student(s) 38\n",
      "3:45-4:00: Student(s) 48\n",
      "\n",
      "***********************************************************************\n",
      "Prof. Shivaram Venkataraman's availability\n",
      "--------------------------------\n",
      "1:30-1:45: can take 1 student(s).\n",
      "1:45-2:00: can take 0 student(s).\n",
      "2:00-2:15: can take 1 student(s).\n",
      "2:15-2:30: can take 1 student(s).\n",
      "2:30-2:45: can take 0 student(s).\n",
      "2:45-3:00: can take 0 student(s).\n",
      "3:00-3:15: can take 0 student(s).\n",
      "3:15-3:30: can take 0 student(s).\n",
      "3:30-3:45: can take 0 student(s).\n",
      "3:45-4:00: can take 0 student(s).\n",
      "\n",
      "Prof. Shivaram Venkataraman schedule: \n",
      "--------------------------------\n",
      "1:30-1:45: Student(s) 118\n",
      "1:45-2:00: -\n",
      "2:00-2:15: Student(s) 83\n",
      "2:15-2:30: Student(s) 101\n",
      "2:30-2:45: -\n",
      "2:45-3:00: -\n",
      "3:00-3:15: -\n",
      "3:15-3:30: -\n",
      "3:30-3:45: -\n",
      "3:45-4:00: -\n",
      "\n",
      "***********************************************************************\n",
      "Prof. AnHai Doan's availability\n",
      "--------------------------------\n",
      "1:30-1:45: can take 1 student(s).\n",
      "1:45-2:00: can take 1 student(s).\n",
      "2:00-2:15: can take 0 student(s).\n",
      "2:15-2:30: can take 1 student(s).\n",
      "2:30-2:45: can take 1 student(s).\n",
      "2:45-3:00: can take 1 student(s).\n",
      "3:00-3:15: can take 1 student(s).\n",
      "3:15-3:30: can take 1 student(s).\n",
      "3:30-3:45: can take 1 student(s).\n",
      "3:45-4:00: can take 1 student(s).\n",
      "\n",
      "Prof. AnHai Doan schedule: \n",
      "--------------------------------\n",
      "1:30-1:45: -\n",
      "1:45-2:00: Student(s) 99\n",
      "2:00-2:15: -\n",
      "2:15-2:30: Student(s) 35\n",
      "2:30-2:45: -\n",
      "2:45-3:00: -\n",
      "3:00-3:15: Student(s) 94\n",
      "3:15-3:30: -\n",
      "3:30-3:45: Student(s) 37\n",
      "3:45-4:00: Student(s) 76\n",
      "\n",
      "***********************************************************************\n"
     ]
    }
   ],
   "source": [
    "timeSlots = [\"1:30-1:45\", \"1:45-2:00\", \"2:00-2:15\", \n",
    "            \"2:15-2:30\", \"2:30-2:45\", \"2:45-3:00\", \n",
    "            \"3:00-3:15\", \"3:15-3:30\", \"3:30-3:45\", \n",
    "            \"3:45-4:00\"]\n",
    "\n",
    "randList = sort(rand(1:39,5))\n",
    "for prof in randList\n",
    "    println(\"Prof. \", profs[prof], \"'s availability\")\n",
    "    println(\"--------------------------------\")\n",
    "    \n",
    "    for ind in 1:length(timeSlots)\n",
    "        println(timeSlots[ind], \": can take \", convert(Int64, TP[prof,ind]), \" student(s).\")\n",
    "    end\n",
    "\n",
    "    println()\n",
    "    printSchedule(\"p\", prof)\n",
    "    println(\"***********************************************************************\")\n",
    "end"
   ]
  },
  {
   "cell_type": "markdown",
   "metadata": {},
   "source": [
    "This one also demonstrates that our model is able to schedule professor-student meetings by making sure that the professors are not scheduled meetings for the time slots in which they are not available and that they do not meet with more students than they can in each time slot.\n",
    "\n",
    "---"
   ]
  },
  {
   "cell_type": "markdown",
   "metadata": {},
   "source": [
    "<a id=\"analysis\"></a>\n",
    "## 6. Analysis and Discussion ##\n",
    "As shown in the previous sections, the individual schedules for both students and professors could be generated successfully based on given data and conditions. In this section, however, we will try to analyze a number of different aspects in order to examine the decisions made by our optimization model in more depth.  \n",
    "\n",
    "In 6.1, we will be focusing on the satisfaction analysis of individual students and professors. In 6.2, the overall satisfaction analysis with different $\\alpha$ values will be discussed (note that $\\alpha = 1$ was used in the results for the purpose of maximizing student satisfaction). In 6.3, we will perform a sensitivity analysis i.e. an examination of the dual values of our availability constraint given below. By doing so, we aim to understand which time slots played the most important role in the decision made by our optimization model and how we can benefit from this information.\n",
    "\n",
    "\\begin{align}\n",
    "    \\sum_{s \\in S} Y_{s,p,k} \\leq T_{p,k} \\qquad \\forall p \\in P, \\forall k \\in K\n",
    "\\end{align}   "
   ]
  },
  {
   "cell_type": "markdown",
   "metadata": {},
   "source": [
    "<a id=\"sensanalysis\"></a>\n",
    "### 6.1. Sensitivity Analysis ###\n",
    "“I will not be able to meet the prospective students tomorrow due to personal issues. Sorry for the inconvenience” -- Professor Jon Smith.  \n",
    "\n",
    "The statement above would be one of the least favored messages to receive if you are the organizer of the event. However, this may happen quite often in practice. This is also why the sensitivity analysis should be considered - we would like to ease the stress for the organizer due to the last-minute change. Sensitivity analysis aims to find which professors should be contacted to seek more openings of the day or take in more students at the destined time slots if the other professors become unavailable. Note that the satisfaction of the students should not be severely sacrificed.  \n",
    "More importantly, we want to see which time slots play the most important role in schedule generation. Even if no professor becomes unavailable at the last minute, we might be interested in determining which slots play the most significant role and ask the corresponding professors to increase their availabilities in those time slots i.e. the number of students that they can take. \n",
    "\n",
    "(The alpha has been adjusted back to 1 since the goal of this part of the analysis focuses on the satisfaction of the students).\n",
    "\n",
    "Let's first find the most important 50 time slots (the 50 time slots with the highest dual values.)"
   ]
  },
  {
   "cell_type": "code",
   "execution_count": 12,
   "metadata": {},
   "outputs": [
    {
     "name": "stdout",
     "output_type": "stream",
     "text": [
      "Academic license - for non-commercial use only\n",
      "Academic license - for non-commercial use only\n"
     ]
    },
    {
     "data": {
      "text/plain": [
       "50-element Array{Any,1}:\n",
       " [5, 1] \n",
       " [11, 1]\n",
       " [5, 2] \n",
       " [11, 2]\n",
       " [5, 3] \n",
       " [11, 3]\n",
       " [5, 4] \n",
       " [11, 4]\n",
       " [5, 5] \n",
       " [11, 5]\n",
       " [5, 6] \n",
       " [11, 6]\n",
       " [5, 7] \n",
       " ⋮      \n",
       " [14, 3]\n",
       " [16, 3]\n",
       " [23, 3]\n",
       " [29, 3]\n",
       " [34, 3]\n",
       " [35, 3]\n",
       " [3, 4] \n",
       " [10, 4]\n",
       " [14, 4]\n",
       " [16, 4]\n",
       " [23, 4]\n",
       " [29, 4]"
      ]
     },
     "execution_count": 12,
     "metadata": {},
     "output_type": "execute_result"
    }
   ],
   "source": [
    "dualsTP, y = createSchedule(TP, CS, CP, N_MIN=2, N_MAX=3, alpha=1, verbose=0)\n",
    ";\n",
    "\n",
    "CopyD = copy(dualsTP)\n",
    "indices = []\n",
    "for i = 1:50\n",
    "    val, ind = findmax(CopyD)\n",
    "    ind = [ind[1], ind[2]]\n",
    "    CopyD[ind[1], ind[2]] = -100\n",
    "    push!(indices, ind)\n",
    "end\n",
    "indices"
   ]
  },
  {
   "cell_type": "markdown",
   "metadata": {},
   "source": [
    "We now have access to the most important 50 time slots in the decision that our model made. This will now help the organizer to decide the order of contacting the professors to adjust their schedule. For example, the fifth and the eleventh professors have the highest dual values in most of their time slots, so the organizer may contact these professors first for the adjustment.  \n",
    "\n",
    "The original data shows that when $\\alpha$ = 1, the average number of the meeting scheduled for each student is about 2.33, and the average student satisfaction index is approximately 8.8. We can see it again here."
   ]
  },
  {
   "cell_type": "code",
   "execution_count": 13,
   "metadata": {},
   "outputs": [
    {
     "name": "stdout",
     "output_type": "stream",
     "text": [
      "Academic license - for non-commercial use only\n",
      "Academic license - for non-commercial use only\n",
      "*******************************************************************\n",
      "*  UW-Madison CS Department - Welcome Weekend Schedule Generator  *\n",
      "*       Implemented by Mehmet Demirel, Jiaze Ma, Yizhou Yao       *\n",
      "*                              2020 ©                             *\n",
      "*******************************************************************\n",
      "\n",
      "Constraints Enforced:\n",
      "---------------------------------------------------------------\n",
      "- Each student will meet with at least 2 faculty member(s).\n",
      "- Each student will be allowed to meet with at most 3 faculty member(s).\n",
      "- If a faculty member's schedule permits, he/she can meet multiple students at once.\n",
      "- Student satisfaction will have a 100% effect on the optimal schedule \n",
      "    whereas professor satisfaction will have a 0% effect. To change this, modify your alpha variable.\n",
      "\n",
      "Results:\n",
      "---------------------------------------------------------------\n",
      "Total number of meetings requested by students: 609\n",
      "Total number of meetings scheduled: 282\n",
      "Average student satisfaction index: 8.785123966942146\n",
      "Average professor satisfaction index: 19.384615384615387\n",
      "Average number of meetings requested by each student: 5.033057851239669\n",
      "Average number of meetings scheduled for each student: 2.330578512396694\n",
      "---------------------------------------------------------------\n",
      "This solution is OPTIMAL\n"
     ]
    }
   ],
   "source": [
    "dualsTP, y = createSchedule(TP, CS, CP, N_MIN=2, N_MAX=3, alpha=1)\n",
    ";"
   ]
  },
  {
   "cell_type": "markdown",
   "metadata": {},
   "source": [
    "<!-- If the first professor becomes unavailable during the open house meeting, the average number of the meeting scheduled for each student would drop to 2.2 with the corresponding average student satisfaction index 8.4. The decrease in both the number of meeting and the satisfaction of the students are expected because of the drop of the first professor.   -->\n",
    "\n",
    "---\n",
    "\n",
    "Now, let's assume we ask the professors who have these 50 most important time slots to take more students in their meetings of the day. Let's say that these professors were able to take in two more students in each of these 30 time slots. Let's make this change and create our schedule again.\n",
    "\n",
    "---"
   ]
  },
  {
   "cell_type": "code",
   "execution_count": 14,
   "metadata": {},
   "outputs": [
    {
     "name": "stdout",
     "output_type": "stream",
     "text": [
      "Academic license - for non-commercial use only\n",
      "Academic license - for non-commercial use only\n",
      "*******************************************************************\n",
      "*  UW-Madison CS Department - Welcome Weekend Schedule Generator  *\n",
      "*       Implemented by Mehmet Demirel, Jiaze Ma, Yizhou Yao       *\n",
      "*                              2020 ©                             *\n",
      "*******************************************************************\n",
      "\n",
      "Constraints Enforced:\n",
      "---------------------------------------------------------------\n",
      "- Each student will meet with at least 2 faculty member(s).\n",
      "- Each student will be allowed to meet with at most 3 faculty member(s).\n",
      "- If a faculty member's schedule permits, he/she can meet multiple students at once.\n",
      "- Student satisfaction will have a 100% effect on the optimal schedule \n",
      "    whereas professor satisfaction will have a 0% effect. To change this, modify your alpha variable.\n",
      "\n",
      "Results:\n",
      "---------------------------------------------------------------\n",
      "Total number of meetings requested by students: 609\n",
      "Total number of meetings scheduled: 338\n",
      "Average student satisfaction index: 10.471074380165291\n",
      "Average professor satisfaction index: 23.282051282051277\n",
      "Average number of meetings requested by each student: 5.033057851239669\n",
      "Average number of meetings scheduled for each student: 2.793388429752066\n",
      "---------------------------------------------------------------\n",
      "This solution is OPTIMAL\n"
     ]
    }
   ],
   "source": [
    "newTP = copy(TP)\n",
    "randlist = rand(1:50, 30)\n",
    "for i in randlist\n",
    "    newTP[indices[i][1], indices[i][2]] = newTP[indices[i][1], indices[i][2]] + 2\n",
    "end\n",
    "\n",
    "createSchedule(newTP, CS, CP, N_MIN=2, N_MAX=3, alpha=1)\n",
    ";"
   ]
  },
  {
   "cell_type": "markdown",
   "metadata": {},
   "source": [
    "---\n",
    "\n",
    "With this change, the average number of the meeting scheduled for each student changes to ~2.7+ with the corresponding average student satisfaction index ~10+ (these numbers would change based on the random time slots picked). The students remain satisfied and more meetings could be scheduled, which meets the expectation.\n",
    "\n",
    "The improved meeting schedules and the satisfaction of the students indicate that the organizer does not need to worry about figuring out which professors to ask for more meeting availabilities or to panic because of a potential sudden change of availability of the professors - optimization can help!\n",
    "\n",
    "---"
   ]
  },
  {
   "cell_type": "markdown",
   "metadata": {},
   "source": [
    "<a id=\"satisanalysis\"></a>\n",
    "### 6.2. Satisfaction Analysis of Students and Professors\n",
    "The average index of satisfaction indicates the overall satisfaction level of the students and the professor. However, individual satisfaction should not be ignored due to its obvious importance. These individual values are significant in seeing if the generated schedule is fair for everyone across the board. If we are not giving enough meetings to even a handful amount of students for the sake of maximizing overall satisfaction of students, then we need to reconsider our decision (Imagine you flew over from another country just to see that you are scheduled only one meeting with a professor who is not even your top choice!).\n",
    "  \n",
    "The output below demonstrates the satisfaction histogram of all students and professors but individually. Note that here $\\alpha$  is chosen to be one to prioritize the satisfaction of the students. The average satisfaction indices of the students and the professors are also marked on the plot as blue and red lines, respectively. Both histograms show even distribution, and more than 50% of students and professors have the satisfaction indices higher than the average values. The lowest satisfaction indices of the individual student and professor are still in the acceptable range. Therefore, the implemented model is proved to solve the proposing problem in an optimizing way. \n"
   ]
  },
  {
   "cell_type": "code",
   "execution_count": 15,
   "metadata": {},
   "outputs": [
    {
     "data": {
      "image/png": "[encoded data removed]",
      "text/plain": [
       "Figure(PyObject <Figure size 1000x1000 with 2 Axes>)"
      ]
     },
     "metadata": {},
     "output_type": "display_data"
    },
    {
     "name": "stdout",
     "output_type": "stream",
     "text": [
      "The minimum individual student satisfaction = 5.0\n",
      "The average individual student satisfaction (blue line) = 8.785123966942148\n",
      "The minumim individual professor satisfaction = 5.0\n",
      "The average individual professor satisfaction (red line) = 19.384615384615383\n"
     ]
    }
   ],
   "source": [
    "function plotSatisfaction(FS, FP)\n",
    "    println(\"The minimum individual student satisfaction = \", minimum(FS))\n",
    "    println(\"The average individual student satisfaction (blue line) = \", sum(FS)/length(FS))\n",
    "    println(\"The minumim individual professor satisfaction = \", minimum(FP))\n",
    "    println(\"The average individual professor satisfaction (red line) = \", sum(FP)/length(FP))\n",
    "\n",
    "    FS = sort(FS)\n",
    "    u=unique(FS)\n",
    "    d=Dict([(i,count(x->x==i,FS)) for i in u])\n",
    "    d = sort(collect(d), by=x->x[1])\n",
    "    countt = []\n",
    "    for item in d\n",
    "        push!(countt, item[2])\n",
    "    end\n",
    "\n",
    "#     dist = fit(Normal, FS)\n",
    "#     mu = mean(dist)\n",
    "#     stdd = std(dist)\n",
    "#     x = [findmin(FS)[1]-2:0.01:findmax(FS)[1]+2;]\n",
    "#     y = (1/(stdd.*sqrt(2*pi))) .* exp.((-1/2)*((x .- mu)/stdd).^2)\n",
    "    \n",
    "    y = [0:0.01:findmax(countt)[1];]\n",
    "    x = fill(sum(FS)/length(FS), length(y))\n",
    "    \n",
    "    #Plot histgram\n",
    "    fig, (ax1, ax2) = PyPlot.subplots(nrows=2, figsize=(10,10))\n",
    "    ax1.bar(u,countt,color=\"#0f87bf\",align=\"center\",alpha=0.4)\n",
    "    ax1.plot(x,y, \"--\", color = \"blue\", linewidth=2)\n",
    "    ax1.axis(\"tight\")\n",
    "    ax1.set_title(\"Individual student satisfaction histogram\")\n",
    "    ax1.grid(true)\n",
    "    ax1.set_xlabel(\"Student satisfaction index\")\n",
    "    ax1.set_ylabel(\"Number of students\")\n",
    "\n",
    "    FP = sort(FP)\n",
    "    u=unique(FP)\n",
    "    d=Dict([(i,count(x->x==i,FP)) for i in u])\n",
    "    d = sort(collect(d), by=x->x[1])\n",
    "    countt = []\n",
    "    for item in d\n",
    "        push!(countt, item[2])\n",
    "    end\n",
    "\n",
    "#     dist = fit(Normal, FP)\n",
    "#     mu = mean(dist)\n",
    "#     stdd = std(dist)\n",
    "\n",
    "   \n",
    "    y = [0:0.01:findmax(countt)[1];]\n",
    "    x = fill(sum(FP)/length(FP), length(y))\n",
    "    \n",
    "\n",
    "    ax2.bar(u,countt,color=\"#0f87bf\",align=\"center\",alpha=0.4)\n",
    "    ax2.plot(x,y, \"--\", color = \"red\", linewidth=2)\n",
    "    ax2.axis(\"tight\")\n",
    "    ax2.set_title(\"Individual professor satisfaction histogram\")\n",
    "    ax2.grid(true)\n",
    "    ax2.set_xlabel(\"Professor satisfaction index\")\n",
    "    ax2.set_ylabel(\"Number of professors\")\n",
    "end\n",
    "\n",
    "# PyPlot.suptitle(\"Individual satisfaction analysis when alpha = 1\")\n",
    "plotSatisfaction(FS, FP)\n",
    "\n",
    ";"
   ]
  },
  {
   "cell_type": "markdown",
   "metadata": {},
   "source": [
    "<a id=\"alphaanalysis\"></a>\n",
    "### 6.3. Satisfaction Analysis with Various $\\alpha$"
   ]
  },
  {
   "cell_type": "markdown",
   "metadata": {},
   "source": [
    "As mentioned earlier, the $\\alpha$ value could be adjusted depends on how we would like to weight the satisfaction of students and professors. We knew that when $\\alpha$ equals to 1, which indicates the satisfaction of the students would be maximized, the average student satisfaction index and the average professor satisfaction index approximately equal to 8.8 and 17.7. \n",
    "\n",
    "Let's now decrease $\\alpha$ to 0.5, which means the importance of the students and the professors are equally weighted. "
   ]
  },
  {
   "cell_type": "code",
   "execution_count": 16,
   "metadata": {},
   "outputs": [
    {
     "name": "stdout",
     "output_type": "stream",
     "text": [
      "Academic license - for non-commercial use only\n",
      "Academic license - for non-commercial use only\n",
      "*******************************************************************\n",
      "*  UW-Madison CS Department - Welcome Weekend Schedule Generator  *\n",
      "*       Implemented by Mehmet Demirel, Jiaze Ma, Yizhou Yao       *\n",
      "*                              2020 ©                             *\n",
      "*******************************************************************\n",
      "\n",
      "Constraints Enforced:\n",
      "---------------------------------------------------------------\n",
      "- Each student will meet with at least 2 faculty member(s).\n",
      "- Each student will be allowed to meet with at most 3 faculty member(s).\n",
      "- If a faculty member's schedule permits, he/she can meet multiple students at once.\n",
      "- Student satisfaction will have a 50.0% effect on the optimal schedule \n",
      "    whereas professor satisfaction will have a 50.0% effect. To change this, modify your alpha variable.\n",
      "\n",
      "Results:\n",
      "---------------------------------------------------------------\n",
      "Total number of meetings requested by students: 609\n",
      "Total number of meetings scheduled: 283\n",
      "Average student satisfaction index: 8.148760330578513\n",
      "Average professor satisfaction index: 24.512820512820515\n",
      "Average number of meetings requested by each student: 5.033057851239669\n",
      "Average number of meetings scheduled for each student: 2.3388429752066116\n",
      "---------------------------------------------------------------\n",
      "This solution is OPTIMAL\n"
     ]
    }
   ],
   "source": [
    "dualsTP, y, FS, FP = createSchedule(TP, CS, CP, N_MIN=2, N_MAX=3, alpha=0.5)\n",
    ";"
   ]
  },
  {
   "cell_type": "markdown",
   "metadata": {},
   "source": [
    "The average student satisfaction index and the average professor satisfaction index turn to 8.1 and 24.5, respectively - the satisfaction of the students has been slightly sacrificed while the satisfaction of the professors has been significantly improved. The corresponding histogram below shows the improvement in the satisfaction of individual processors while maintaining the great satisfaction rate of the individual students."
   ]
  },
  {
   "cell_type": "code",
   "execution_count": 17,
   "metadata": {},
   "outputs": [
    {
     "data": {
      "image/png": "[encoded data removed]",
      "text/plain": [
       "Figure(PyObject <Figure size 1000x1000 with 2 Axes>)"
      ]
     },
     "metadata": {},
     "output_type": "display_data"
    },
    {
     "name": "stdout",
     "output_type": "stream",
     "text": [
      "The minimum individual student satisfaction = 3.0\n",
      "The average individual student satisfaction (blue line) = 8.148760330578513\n",
      "The minumim individual professor satisfaction = 5.0\n",
      "The average individual professor satisfaction (red line) = 24.512820512820515\n"
     ]
    }
   ],
   "source": [
    "plotSatisfaction(FS, FP);"
   ]
  },
  {
   "cell_type": "markdown",
   "metadata": {},
   "source": [
    "Let's further decrease the value of $\\alpha$ to 0.000001, which favors the satisfaction of the professors and makes the satisfaction of the students insignificant."
   ]
  },
  {
   "cell_type": "code",
   "execution_count": 40,
   "metadata": {},
   "outputs": [
    {
     "name": "stdout",
     "output_type": "stream",
     "text": [
      "Academic license - for non-commercial use only\n",
      "Academic license - for non-commercial use only\n",
      "*******************************************************************\n",
      "*  UW-Madison CS Department - Welcome Weekend Schedule Generator  *\n",
      "*       Implemented by Mehmet Demirel, Jiaze Ma, Yizhou Yao       *\n",
      "*                              2020 ©                             *\n",
      "*******************************************************************\n",
      "\n",
      "Constraints Enforced:\n",
      "---------------------------------------------------------------\n",
      "- Each student will meet with at least 2 faculty member(s).\n",
      "- Each student will be allowed to meet with at most 3 faculty member(s).\n",
      "- If a faculty member's schedule permits, he/she can meet multiple students at once.\n",
      "- Student satisfaction will have a 9.999999999999999e-5% effect on the optimal schedule \n",
      "    whereas professor satisfaction will have a 99.9999% effect. To change this, modify your alpha variable.\n",
      "\n",
      "Results:\n",
      "---------------------------------------------------------------\n",
      "Total number of meetings requested by students: 609\n",
      "Total number of meetings scheduled: 281\n",
      "Average student satisfaction index: 7.016528925619835\n",
      "Average professor satisfaction index: 25.717948717948715\n",
      "Average number of meetings requested by each student: 5.033057851239669\n",
      "Average number of meetings scheduled for each student: 2.322314049586777\n",
      "---------------------------------------------------------------\n",
      "This solution is OPTIMAL\n"
     ]
    }
   ],
   "source": [
    "dualsTP, y, FS, FP = createSchedule(TP, CS, CP, N_MIN=2, N_MAX=3, alpha=0.000001)\n",
    ";"
   ]
  },
  {
   "cell_type": "markdown",
   "metadata": {},
   "source": [
    "As can be seen, the average student satisfaction index and the average professor satisfaction index would be changed to 6.8 and 25.9, respectively - the satisfaction of the students has been further decreased while the satisfaction of the professor has been improved compared to the previous case. The corresponding histogram below shows the more optimized satisfaction of individual professors, and the satisfaction rate of the individual students has been slightly sacrificed but still acceptable."
   ]
  },
  {
   "cell_type": "code",
   "execution_count": 41,
   "metadata": {},
   "outputs": [
    {
     "data": {
      "image/png": "[encoded data removed]",
      "text/plain": [
       "Figure(PyObject <Figure size 1000x1000 with 2 Axes>)"
      ]
     },
     "metadata": {},
     "output_type": "display_data"
    },
    {
     "name": "stdout",
     "output_type": "stream",
     "text": [
      "The minimum individual student satisfaction = 3.0\n",
      "The average individual student satisfaction (blue line) = 7.016528925619835\n",
      "The minumim individual professor satisfaction = 9.0\n",
      "The average individual professor satisfaction (red line) = 25.71794871794872\n"
     ]
    }
   ],
   "source": [
    "plotSatisfaction(FS, FP);"
   ]
  },
  {
   "cell_type": "markdown",
   "metadata": {},
   "source": [
    "Let's now take a look at our Pareto curve with different $\\alpha$ values. The plot below is the Pareto curve for our bi-objective model. The y-axis represents the average satisfaction index of students whereas the x-axis denotes the average satisfaction index of professors. In this figure, the region above the Pareto curve is the infeasible region and the one below the curve is the suboptimal region. The value of $\\alpha$ ranges from $0$ to $1$, with a step size of $0.1$. The plot is obtained by modifying the objective function with different values of $\\alpha$. When $\\alpha = 0$, the average satisfaction index of students is $6.9$ and the average satisfaction index of professors is $26.5$. When $\\alpha = 1$, the average satisfaction index of students is $8.8$ and the average satisfaction index of professors is $19.1$. In order to obtain a comprising solution, we can set value of $\\alpha$ as $0.5$. A set of optimal solutions is given for the decision maker to consider so that they can make their final schedule decision based on how they weight the satisfaction of the students vs. that of professors."
   ]
  },
  {
   "cell_type": "code",
   "execution_count": 4,
   "metadata": {},
   "outputs": [
    {
     "data": {
      "image/png": "[encoded data removed]",
      "text/plain": [
       "Figure(PyObject <Figure size 640x480 with 1 Axes>)"
      ]
     },
     "metadata": {},
     "output_type": "display_data"
    }
   ],
   "source": [
    "# pareto curve\n",
    "y =[ 6.9,7.1,7.3,7.5,7.7,8.1,8.4,8.6,8.71,8.77,8.8]\n",
    "z = [26.5,26.5,26.4,26.2,25.8,24.9,23.8,22.7,21.6,20.5,19.1]\n",
    "plot(z, y ,\"g.-\")\n",
    "xlabel(\"Average Professor Satisfaction\");\n",
    "ylabel(\"Average Student Satisfaction\")\n",
    "\n",
    ";"
   ]
  },
  {
   "cell_type": "markdown",
   "metadata": {},
   "source": [
    "---\n",
    "\n",
    "<a id=\"conclusion\"></a>\n",
    "## 7. Conclusion\n",
    "\n",
    "In this project, we focused on using optimization to schedule student/professor meetings held at graduate student welcome weekends that take place every spring across the country. In this direction, we first obtained real data pertaining to the 2020 Welcome Weekend events of the Computer Sciences department at UW-Madison. We, then, modelled a multi-objective optimization program in order to be able to maximize both students' and professors' satisfaction of their meetings. Afterwards, we [implemented](#code) our model and a number of different helper functions to help us better understand what our model produces. Looking at the [results](#results), we were able to see that our model was capable of generating meeting schedules based on a number of user-defined constraints. \n",
    "\n",
    "Furthermore, we wanted to [analyze](#analysis) different aspects of our model to obtain a better understanding of the general picture. Our analysis mainly helped us understand the relevant importance of individual time slots in professors' schedules, which further enabled us to fine-tune our hyperparameters to generate fairer schedules for all students across the board. We were also able to see the distributions of student and professor satisfaction indices, which helped us see whether or not the schedule we have generated was being fair to all students and professors. A set of optimal solutions is given in this report, with different weightings on professor and students. A Pareto curve is used to show the trade-off between the satisfaction of students and professors. The bi-objective function of our model provides potential decision makers with the flexibility of prioritizing the satisfaction of the students or that of the professors.\n",
    "\n",
    "In the future, we would like to extend this project to a number of different events that take place in the welcome weekend organizations, such as hotel accommodations, dinner table arrangements, and diet optimization. We believe that using optimization to automatically handle these types of events will enable our entire project serve as a general tool that can be used by the organizers of such events. We know that optimization of these different sorts of events does not differ so much from what we have already done in this project in that a very similar skeleton of our model can be used. It is important to note that we did not include the optimization of these events in this project mainly for the purpose of focusing on a particular optimization problem throughout this project. In addition, we did not have real data pertaining to these events and thought that it would not be logical to test a potential optimization model on made-up data.  \n",
    "\n",
    "As a secondary future direction, we would like to add another objective to our optimization model that aims to minimize the variance of the number of meetings that the students are scheduled. In doing so, we would make sure that no individual student's overall experience is sacrificed for the sake of the overall satisfaction of all students.\n",
    "\n",
    "---"
   ]
  },
  {
   "cell_type": "markdown",
   "metadata": {},
   "source": [
    "<a id=\"authors\"></a>\n",
    "## 8. Author Contributions\n",
    "\n",
    "The following table demonstrates how much each author contributed to different parts of this project.   \n",
    "\n",
    "\n",
    "| Part |  Student A | Student B | Student C |\n",
    "| :---: | :---: | :---: | :---: |\n",
    "| **Modelling** | 25 % | 50 % | 25 % |\n",
    "| **Analysis** | 25 % | 25 % | 50 % |\n",
    "| **Data Gathering** | 33.33 % | 33.33 % | 33.33 % |\n",
    "| **Implementation** | 50 % | 25 % | 25 % |\n",
    "| **Report Writing** | 33.33 % | 33.33 % | 33.33 % |  \n",
    "\n",
    "---\n",
    "\n",
    "<div align=\"center\">Student A = Mehmet Furkan Demirel </div>\n",
    "<div align=\"center\">Student B = Jiaze Ma </div>\n",
    "<div align=\"center\">Student C = Yizhou Yao </div>"
   ]
  },
  {
   "cell_type": "markdown",
   "metadata": {},
   "source": [
    "---\n",
    "<a id=\"acknowledgements\"></a>\n",
    "## 9. Acknowledgements\n",
    "\n",
    "*We would like to thank our amazing professor **Line A. Roald** and our teaching assistant **Bainian Hao** for their endless efforts to teach us optimization throughout this difficult semester!*  \n",
    "\n",
    "*We would also like to thank **Angela Thorp**, the graduate coordinator of the Computer Sciences department at UW-Madison, for doing an incredible job every year in organizing the Welcome Weekend events for the graduate students admitted to the department and for inspiring us to embark upon this project!*\n",
    "\n",
    "---\n",
    "\n",
    "<div align=\"center\"> Mehmet Demirel, Yizhou Yao, Jiaze Ma </div>\n",
    "<div align=\"center\"> © 2020  </div>"
   ]
  }
 ],
 "metadata": {
  "kernelspec": {
   "display_name": "Julia 1.3.1",
   "language": "julia",
   "name": "julia-1.3"
  },
  "language_info": {
   "file_extension": ".jl",
   "mimetype": "application/julia",
   "name": "julia",
   "version": "1.3.1"
  }
 },
 "nbformat": 4,
 "nbformat_minor": 2
}
